{
 "cells": [
  {
   "cell_type": "markdown",
   "metadata": {},
   "source": [
    "# Surfa Data Preparation Notebook\r\n",
    "\r\n",
    "This notebook \r\n",
    "* reads in the the raw data, \r\n",
    "* applies appropriate transformations, \r\n",
    "* executes the appropriate feature engeneering, \r\n",
    "* cleans the data and\r\n",
    "* stores it in a dataset that can be used in training the model."
   ]
  },
  {
   "cell_type": "code",
   "execution_count": 216,
   "metadata": {},
   "outputs": [],
   "source": [
    "import pandas as pd\r\n",
    "import numpy as np"
   ]
  },
  {
   "cell_type": "code",
   "execution_count": 217,
   "metadata": {},
   "outputs": [
    {
     "name": "stdout",
     "output_type": "stream",
     "text": [
      "<class 'pandas.core.frame.DataFrame'>\n",
      "RangeIndex: 101 entries, 0 to 100\n",
      "Data columns (total 5 columns):\n",
      "Date        101 non-null object\n",
      "Tip         101 non-null float64\n",
      "Orders      101 non-null int64\n",
      "Distance    101 non-null float64\n",
      "DriverID    101 non-null int64\n",
      "dtypes: float64(2), int64(2), object(1)\n",
      "memory usage: 4.0+ KB\n"
     ]
    },
    {
     "data": {
      "text/html": "<div>\n<style scoped>\n    .dataframe tbody tr th:only-of-type {\n        vertical-align: middle;\n    }\n\n    .dataframe tbody tr th {\n        vertical-align: top;\n    }\n\n    .dataframe thead th {\n        text-align: right;\n    }\n</style>\n<table border=\"1\" class=\"dataframe\">\n  <thead>\n    <tr style=\"text-align: right;\">\n      <th></th>\n      <th>Date</th>\n      <th>Tip</th>\n      <th>Orders</th>\n      <th>Distance</th>\n      <th>DriverID</th>\n    </tr>\n  </thead>\n  <tbody>\n    <tr>\n      <th>0</th>\n      <td>2021-01-10</td>\n      <td>0.00</td>\n      <td>8</td>\n      <td>28.0</td>\n      <td>1</td>\n    </tr>\n    <tr>\n      <th>1</th>\n      <td>2021-01-02</td>\n      <td>0.00</td>\n      <td>5</td>\n      <td>13.9</td>\n      <td>1</td>\n    </tr>\n    <tr>\n      <th>2</th>\n      <td>2021-01-13</td>\n      <td>0.00</td>\n      <td>8</td>\n      <td>20.0</td>\n      <td>1</td>\n    </tr>\n    <tr>\n      <th>3</th>\n      <td>2021-01-16</td>\n      <td>0.00</td>\n      <td>10</td>\n      <td>30.0</td>\n      <td>1</td>\n    </tr>\n    <tr>\n      <th>4</th>\n      <td>2021-01-21</td>\n      <td>2.45</td>\n      <td>11</td>\n      <td>37.5</td>\n      <td>1</td>\n    </tr>\n  </tbody>\n</table>\n</div>",
      "text/plain": "         Date   Tip  Orders  Distance  DriverID\n0  2021-01-10  0.00       8      28.0         1\n1  2021-01-02  0.00       5      13.9         1\n2  2021-01-13  0.00       8      20.0         1\n3  2021-01-16  0.00      10      30.0         1\n4  2021-01-21  2.45      11      37.5         1"
     },
     "execution_count": 217,
     "metadata": {},
     "output_type": "execute_result"
    }
   ],
   "source": [
    "tips = pd.read_csv('raw_data/raw_tips.csv', parse_dates=False)\r\n",
    "tips.info()\r\n",
    "tips.head(5)"
   ]
  },
  {
   "cell_type": "markdown",
   "metadata": {},
   "source": [
    "## Auditing and cleaning"
   ]
  },
  {
   "cell_type": "code",
   "execution_count": 218,
   "metadata": {},
   "outputs": [
    {
     "name": "stdout",
     "output_type": "stream",
     "text": [
      "Start audit\n",
      "Warning! #NoOrdersForTip \n",
      "          Date   Tip  Orders  Distance  DriverID\n",
      "37 2021-01-31  2.32       0       0.0         2\n",
      "Audit completed\n"
     ]
    }
   ],
   "source": [
    "def audit_surfa(df):\r\n",
    "    print('Start audit')\r\n",
    "    assure_num_type(df,'Tip', float, min=0, max=200)\r\n",
    "    assure_num_type(df,'Distance', float, min=0, max=100)\r\n",
    "    assure_num_type(df,'Orders', int, min=0, max=50)\r\n",
    "    assure_num_type(df,'DriverID', int, min=0)\r\n",
    "    assure_date(df, 'Date', min='2020-09-01', max='2021-03-18')\r\n",
    "    assure_mandatory(df, df.columns)\r\n",
    "    assure_orders_exist_for_tips(df)\r\n",
    "    print('Audit completed')\r\n",
    "\r\n",
    "def assure_num_type(df, col, dtype, min= None, max=None):\r\n",
    "    df[col] = df[col].astype(dtype)\r\n",
    "\r\n",
    "    assure_min(df, col, min)\r\n",
    "    assure_max(df, col, max)\r\n",
    "\r\n",
    "def assure_min(df, col, min):\r\n",
    "    lower = df[col] < min\r\n",
    "    if lower.any(): \r\n",
    "        print('Fail! #ValueTooLow', col, '\\n', df.loc[lower])\r\n",
    "\r\n",
    "def assure_max(df, col, max):\r\n",
    "    higher = df[col] > max\r\n",
    "    if higher.any(): \r\n",
    "        print('Fail! #ValueTooHigh', col, '\\n', df.loc[higher])\r\n",
    "\r\n",
    "def assure_date(df, col, min=None, max=None):\r\n",
    "    try:\r\n",
    "        df[col] = pd.to_datetime(df[col], format='%Y-%m-%d', errors='raise')\r\n",
    "    except ValueError as error:\r\n",
    "        print('Fail! #DateFormatWrong (expected yyyy-mm-dd)', col, '\\n', error)\r\n",
    "\r\n",
    "    assure_min(df, col, min)\r\n",
    "    assure_max(df, col, max)\r\n",
    "\r\n",
    "def assure_mandatory(df, cols):\r\n",
    "\r\n",
    "    invalid = df[cols].isna().any(axis=1)\r\n",
    "    if invalid.any():\r\n",
    "        print('Fail! #MissingValues ', cols, '\\n', df.loc[invalid] )\r\n",
    "\r\n",
    "def assure_orders_exist_for_tips(df):\r\n",
    "    invalid = (df['Tip'] > 0) & (df['Orders'] == 0)\r\n",
    "    if invalid.any():\r\n",
    "        print('Warning! #NoOrdersForTip \\n', df.loc[invalid])\r\n",
    "    return invalid\r\n",
    "\r\n",
    "\r\n",
    "audit_surfa(tips)"
   ]
  },
  {
   "cell_type": "code",
   "execution_count": 219,
   "metadata": {},
   "outputs": [
    {
     "name": "stdout",
     "output_type": "stream",
     "text": [
      "Warning! #NoOrdersForTip \n",
      "          Date   Tip  Orders  Distance  DriverID\n",
      "37 2021-01-31  2.32       0       0.0         2\n",
      "Autofixing finished\n"
     ]
    }
   ],
   "source": [
    "def autofix_data(df: pd.DataFrame) -> pd.DataFrame:\r\n",
    "    todrop = assure_orders_exist_for_tips(df)\r\n",
    "    df = df.loc[~todrop]\r\n",
    "\r\n",
    "    print('Autofixing finished')\r\n",
    "    return df\r\n",
    "\r\n",
    "tips = autofix_data(tips)\r\n"
   ]
  },
  {
   "cell_type": "markdown",
   "metadata": {},
   "source": [
    "# Enreaching tips dataset"
   ]
  },
  {
   "cell_type": "markdown",
   "metadata": {},
   "source": [
    "Add `TipPerOrder` as label to deal properly with drivers having double shifts."
   ]
  },
  {
   "cell_type": "code",
   "execution_count": 220,
   "metadata": {},
   "outputs": [
    {
     "data": {
      "text/html": "<div>\n<style scoped>\n    .dataframe tbody tr th:only-of-type {\n        vertical-align: middle;\n    }\n\n    .dataframe tbody tr th {\n        vertical-align: top;\n    }\n\n    .dataframe thead th {\n        text-align: right;\n    }\n</style>\n<table border=\"1\" class=\"dataframe\">\n  <thead>\n    <tr style=\"text-align: right;\">\n      <th></th>\n      <th>Date</th>\n      <th>Tip</th>\n      <th>Orders</th>\n      <th>Distance</th>\n      <th>DriverID</th>\n      <th>TipPerOrder</th>\n    </tr>\n  </thead>\n  <tbody>\n    <tr>\n      <th>0</th>\n      <td>2021-01-10</td>\n      <td>0.00</td>\n      <td>8</td>\n      <td>28.0</td>\n      <td>1</td>\n      <td>0.000000</td>\n    </tr>\n    <tr>\n      <th>1</th>\n      <td>2021-01-02</td>\n      <td>0.00</td>\n      <td>5</td>\n      <td>13.9</td>\n      <td>1</td>\n      <td>0.000000</td>\n    </tr>\n    <tr>\n      <th>2</th>\n      <td>2021-01-13</td>\n      <td>0.00</td>\n      <td>8</td>\n      <td>20.0</td>\n      <td>1</td>\n      <td>0.000000</td>\n    </tr>\n    <tr>\n      <th>3</th>\n      <td>2021-01-16</td>\n      <td>0.00</td>\n      <td>10</td>\n      <td>30.0</td>\n      <td>1</td>\n      <td>0.000000</td>\n    </tr>\n    <tr>\n      <th>4</th>\n      <td>2021-01-21</td>\n      <td>2.45</td>\n      <td>11</td>\n      <td>37.5</td>\n      <td>1</td>\n      <td>0.222727</td>\n    </tr>\n  </tbody>\n</table>\n</div>",
      "text/plain": "        Date   Tip  Orders  Distance  DriverID  TipPerOrder\n0 2021-01-10  0.00       8      28.0         1     0.000000\n1 2021-01-02  0.00       5      13.9         1     0.000000\n2 2021-01-13  0.00       8      20.0         1     0.000000\n3 2021-01-16  0.00      10      30.0         1     0.000000\n4 2021-01-21  2.45      11      37.5         1     0.222727"
     },
     "execution_count": 220,
     "metadata": {},
     "output_type": "execute_result"
    }
   ],
   "source": [
    "tips['TipPerOrder'] = tips['Tip'] / tips['Orders']\r\n",
    "tips.head(5)"
   ]
  },
  {
   "cell_type": "markdown",
   "metadata": {},
   "source": [
    "Add day of week and whether hte shift is during a weekend or not."
   ]
  },
  {
   "cell_type": "code",
   "execution_count": 221,
   "metadata": {},
   "outputs": [
    {
     "data": {
      "text/html": "<div>\n<style scoped>\n    .dataframe tbody tr th:only-of-type {\n        vertical-align: middle;\n    }\n\n    .dataframe tbody tr th {\n        vertical-align: top;\n    }\n\n    .dataframe thead th {\n        text-align: right;\n    }\n</style>\n<table border=\"1\" class=\"dataframe\">\n  <thead>\n    <tr style=\"text-align: right;\">\n      <th></th>\n      <th>Date</th>\n      <th>Tip</th>\n      <th>Orders</th>\n      <th>Distance</th>\n      <th>DriverID</th>\n      <th>TipPerOrder</th>\n      <th>DayOfWeek</th>\n      <th>IsWeekend</th>\n    </tr>\n  </thead>\n  <tbody>\n    <tr>\n      <th>0</th>\n      <td>2021-01-10</td>\n      <td>0.00</td>\n      <td>8</td>\n      <td>28.0</td>\n      <td>1</td>\n      <td>0.000000</td>\n      <td>6</td>\n      <td>1.0</td>\n    </tr>\n    <tr>\n      <th>1</th>\n      <td>2021-01-02</td>\n      <td>0.00</td>\n      <td>5</td>\n      <td>13.9</td>\n      <td>1</td>\n      <td>0.000000</td>\n      <td>5</td>\n      <td>1.0</td>\n    </tr>\n    <tr>\n      <th>2</th>\n      <td>2021-01-13</td>\n      <td>0.00</td>\n      <td>8</td>\n      <td>20.0</td>\n      <td>1</td>\n      <td>0.000000</td>\n      <td>2</td>\n      <td>0.0</td>\n    </tr>\n    <tr>\n      <th>3</th>\n      <td>2021-01-16</td>\n      <td>0.00</td>\n      <td>10</td>\n      <td>30.0</td>\n      <td>1</td>\n      <td>0.000000</td>\n      <td>5</td>\n      <td>1.0</td>\n    </tr>\n    <tr>\n      <th>4</th>\n      <td>2021-01-21</td>\n      <td>2.45</td>\n      <td>11</td>\n      <td>37.5</td>\n      <td>1</td>\n      <td>0.222727</td>\n      <td>3</td>\n      <td>0.0</td>\n    </tr>\n  </tbody>\n</table>\n</div>",
      "text/plain": "        Date   Tip  Orders  Distance  DriverID  TipPerOrder  DayOfWeek  \\\n0 2021-01-10  0.00       8      28.0         1     0.000000          6   \n1 2021-01-02  0.00       5      13.9         1     0.000000          5   \n2 2021-01-13  0.00       8      20.0         1     0.000000          2   \n3 2021-01-16  0.00      10      30.0         1     0.000000          5   \n4 2021-01-21  2.45      11      37.5         1     0.222727          3   \n\n   IsWeekend  \n0        1.0  \n1        1.0  \n2        0.0  \n3        1.0  \n4        0.0  "
     },
     "execution_count": 221,
     "metadata": {},
     "output_type": "execute_result"
    }
   ],
   "source": [
    "tips['DayOfWeek'] = tips['Date'].dt.dayofweek\r\n",
    "tips['IsWeekend'] = (tips['DayOfWeek'] > 3).astype(float) # 4, 5, 6 are Fri, Sat, Sun respectievely, and considered weekend\r\n",
    "tips.head(5)"
   ]
  },
  {
   "cell_type": "markdown",
   "metadata": {},
   "source": [
    "# KNMI Weather Data "
   ]
  },
  {
   "cell_type": "code",
   "execution_count": 222,
   "metadata": {},
   "outputs": [
    {
     "name": "stderr",
     "output_type": "stream",
     "text": [
      "<ipython-input-222-e57315947825>:1: ParserWarning: Both a converter and dtype were specified for column YYYYMMDD - only the converter will be used\n",
      "  weather = pd.read_csv('./raw_data/raw_weather.csv', parse_dates=['YYYYMMDD'], index_col=['YYYYMMDD'], na_values='     ', header=44, dtype=float, converters = {'YYYYMMDD': str} )\n"
     ]
    },
    {
     "name": "stdout",
     "output_type": "stream",
     "text": [
      "(25644, 40)\n",
      "<class 'pandas.core.frame.DataFrame'>\n",
      "DatetimeIndex: 442 entries, 2020-01-01 to 2021-03-17\n",
      "Data columns (total 39 columns):\n",
      "DDVEC                442 non-null float64\n",
      "FHVEC                442 non-null float64\n",
      "MeanWind             442 non-null float64\n",
      "MaxWind              442 non-null float64\n",
      "MaxWindHour          442 non-null float64\n",
      "MinWind              442 non-null float64\n",
      "MinWindHour          442 non-null float64\n",
      "MaxWindGust          442 non-null float64\n",
      "MaxWindGustHour      442 non-null float64\n",
      "MeanTemp             442 non-null float64\n",
      "MinTemp              442 non-null float64\n",
      "MinTempHour          442 non-null float64\n",
      "MaxTemp              442 non-null float64\n",
      "MaxTempHour          442 non-null float64\n",
      "T10N                 442 non-null float64\n",
      "T10NH                442 non-null float64\n",
      "SunshineDur          442 non-null float64\n",
      "SP                   442 non-null float64\n",
      "Q                    442 non-null float64\n",
      "RainDur              442 non-null float64\n",
      "RainAmount           442 non-null float64\n",
      "MaxRainAmount        442 non-null float64\n",
      "MaxRainAmountHour    442 non-null float64\n",
      "MeanPress            442 non-null float64\n",
      "MaxPress             442 non-null float64\n",
      "MaxPressHour         442 non-null float64\n",
      "MinPress             442 non-null float64\n",
      "MinPressHour         442 non-null float64\n",
      "MinVis               442 non-null float64\n",
      "MinVisHour           442 non-null float64\n",
      "MaxVis               442 non-null float64\n",
      "MaxVisHour           442 non-null float64\n",
      "Cloudness            440 non-null float64\n",
      "MeanHum              442 non-null float64\n",
      "MaxHum               442 non-null float64\n",
      "MaxHumHour           442 non-null float64\n",
      "MinHum               442 non-null float64\n",
      "MinHumHour           442 non-null float64\n",
      "EV24                 442 non-null float64\n",
      "dtypes: float64(39)\n",
      "memory usage: 138.1 KB\n"
     ]
    },
    {
     "data": {
      "text/html": "<div>\n<style scoped>\n    .dataframe tbody tr th:only-of-type {\n        vertical-align: middle;\n    }\n\n    .dataframe tbody tr th {\n        vertical-align: top;\n    }\n\n    .dataframe thead th {\n        text-align: right;\n    }\n</style>\n<table border=\"1\" class=\"dataframe\">\n  <thead>\n    <tr style=\"text-align: right;\">\n      <th></th>\n      <th>DDVEC</th>\n      <th>FHVEC</th>\n      <th>MeanWind</th>\n      <th>MaxWind</th>\n      <th>MaxWindHour</th>\n      <th>MinWind</th>\n      <th>MinWindHour</th>\n      <th>MaxWindGust</th>\n      <th>MaxWindGustHour</th>\n      <th>MeanTemp</th>\n      <th>...</th>\n      <th>MinVisHour</th>\n      <th>MaxVis</th>\n      <th>MaxVisHour</th>\n      <th>Cloudness</th>\n      <th>MeanHum</th>\n      <th>MaxHum</th>\n      <th>MaxHumHour</th>\n      <th>MinHum</th>\n      <th>MinHumHour</th>\n      <th>EV24</th>\n    </tr>\n    <tr>\n      <th>YYYYMMDD</th>\n      <th></th>\n      <th></th>\n      <th></th>\n      <th></th>\n      <th></th>\n      <th></th>\n      <th></th>\n      <th></th>\n      <th></th>\n      <th></th>\n      <th></th>\n      <th></th>\n      <th></th>\n      <th></th>\n      <th></th>\n      <th></th>\n      <th></th>\n      <th></th>\n      <th></th>\n      <th></th>\n      <th></th>\n    </tr>\n  </thead>\n  <tbody>\n    <tr>\n      <th>2020-01-01</th>\n      <td>159.0</td>\n      <td>16.0</td>\n      <td>21.0</td>\n      <td>40.0</td>\n      <td>24.0</td>\n      <td>10.0</td>\n      <td>17.0</td>\n      <td>70.0</td>\n      <td>24.0</td>\n      <td>6.0</td>\n      <td>...</td>\n      <td>10.0</td>\n      <td>37.0</td>\n      <td>1.0</td>\n      <td>8.0</td>\n      <td>97.0</td>\n      <td>98.0</td>\n      <td>6.0</td>\n      <td>92.0</td>\n      <td>1.0</td>\n      <td>1.0</td>\n    </tr>\n    <tr>\n      <th>2020-01-02</th>\n      <td>182.0</td>\n      <td>37.0</td>\n      <td>38.0</td>\n      <td>50.0</td>\n      <td>19.0</td>\n      <td>20.0</td>\n      <td>4.0</td>\n      <td>90.0</td>\n      <td>19.0</td>\n      <td>37.0</td>\n      <td>...</td>\n      <td>1.0</td>\n      <td>70.0</td>\n      <td>16.0</td>\n      <td>8.0</td>\n      <td>94.0</td>\n      <td>98.0</td>\n      <td>1.0</td>\n      <td>87.0</td>\n      <td>23.0</td>\n      <td>2.0</td>\n    </tr>\n    <tr>\n      <th>2020-01-03</th>\n      <td>232.0</td>\n      <td>40.0</td>\n      <td>53.0</td>\n      <td>70.0</td>\n      <td>9.0</td>\n      <td>30.0</td>\n      <td>19.0</td>\n      <td>120.0</td>\n      <td>14.0</td>\n      <td>76.0</td>\n      <td>...</td>\n      <td>17.0</td>\n      <td>70.0</td>\n      <td>1.0</td>\n      <td>7.0</td>\n      <td>91.0</td>\n      <td>96.0</td>\n      <td>14.0</td>\n      <td>84.0</td>\n      <td>8.0</td>\n      <td>1.0</td>\n    </tr>\n    <tr>\n      <th>2020-01-04</th>\n      <td>249.0</td>\n      <td>43.0</td>\n      <td>45.0</td>\n      <td>60.0</td>\n      <td>9.0</td>\n      <td>20.0</td>\n      <td>22.0</td>\n      <td>100.0</td>\n      <td>12.0</td>\n      <td>56.0</td>\n      <td>...</td>\n      <td>19.0</td>\n      <td>74.0</td>\n      <td>14.0</td>\n      <td>8.0</td>\n      <td>92.0</td>\n      <td>97.0</td>\n      <td>21.0</td>\n      <td>80.0</td>\n      <td>14.0</td>\n      <td>3.0</td>\n    </tr>\n    <tr>\n      <th>2020-01-05</th>\n      <td>213.0</td>\n      <td>32.0</td>\n      <td>32.0</td>\n      <td>40.0</td>\n      <td>11.0</td>\n      <td>30.0</td>\n      <td>1.0</td>\n      <td>60.0</td>\n      <td>13.0</td>\n      <td>65.0</td>\n      <td>...</td>\n      <td>4.0</td>\n      <td>75.0</td>\n      <td>13.0</td>\n      <td>8.0</td>\n      <td>87.0</td>\n      <td>95.0</td>\n      <td>1.0</td>\n      <td>77.0</td>\n      <td>13.0</td>\n      <td>1.0</td>\n    </tr>\n  </tbody>\n</table>\n<p>5 rows × 39 columns</p>\n</div>",
      "text/plain": "            DDVEC  FHVEC  MeanWind  MaxWind  MaxWindHour  MinWind  \\\nYYYYMMDD                                                            \n2020-01-01  159.0   16.0      21.0     40.0         24.0     10.0   \n2020-01-02  182.0   37.0      38.0     50.0         19.0     20.0   \n2020-01-03  232.0   40.0      53.0     70.0          9.0     30.0   \n2020-01-04  249.0   43.0      45.0     60.0          9.0     20.0   \n2020-01-05  213.0   32.0      32.0     40.0         11.0     30.0   \n\n            MinWindHour  MaxWindGust  MaxWindGustHour  MeanTemp  ...  \\\nYYYYMMDD                                                         ...   \n2020-01-01         17.0         70.0             24.0       6.0  ...   \n2020-01-02          4.0         90.0             19.0      37.0  ...   \n2020-01-03         19.0        120.0             14.0      76.0  ...   \n2020-01-04         22.0        100.0             12.0      56.0  ...   \n2020-01-05          1.0         60.0             13.0      65.0  ...   \n\n            MinVisHour  MaxVis  MaxVisHour  Cloudness  MeanHum  MaxHum  \\\nYYYYMMDD                                                                 \n2020-01-01        10.0    37.0         1.0        8.0     97.0    98.0   \n2020-01-02         1.0    70.0        16.0        8.0     94.0    98.0   \n2020-01-03        17.0    70.0         1.0        7.0     91.0    96.0   \n2020-01-04        19.0    74.0        14.0        8.0     92.0    97.0   \n2020-01-05         4.0    75.0        13.0        8.0     87.0    95.0   \n\n            MaxHumHour  MinHum  MinHumHour  EV24  \nYYYYMMDD                                          \n2020-01-01         6.0    92.0         1.0   1.0  \n2020-01-02         1.0    87.0        23.0   2.0  \n2020-01-03        14.0    84.0         8.0   1.0  \n2020-01-04        21.0    80.0        14.0   3.0  \n2020-01-05         1.0    77.0        13.0   1.0  \n\n[5 rows x 39 columns]"
     },
     "execution_count": 222,
     "metadata": {},
     "output_type": "execute_result"
    }
   ],
   "source": [
    "weather = pd.read_csv('./raw_data/raw_weather.csv', parse_dates=['YYYYMMDD'], index_col=['YYYYMMDD'], na_values='     ', header=44, dtype=float, converters = {'YYYYMMDD': str} )\r\n",
    "print(weather.shape)\r\n",
    "weather = weather.loc['2020-01-01':] \\\r\n",
    "            .drop(columns=['STN']) \\\r\n",
    "            .rename(columns=str.strip) \\\r\n",
    "            .rename(columns={\r\n",
    "                'FG': 'MeanWind',\r\n",
    "                'FHX': 'MaxWind',\r\n",
    "                'FHXH': 'MaxWindHour',\r\n",
    "                'FHN': 'MinWind',\r\n",
    "                'FHNH': 'MinWindHour',\r\n",
    "                'FXX': 'MaxWindGust',\r\n",
    "                'FXXH': 'MaxWindGustHour',\r\n",
    "                'TG': 'MeanTemp',\r\n",
    "                'TN': 'MinTemp',\r\n",
    "                'TNH': 'MinTempHour',\r\n",
    "                'TX': 'MaxTemp',\r\n",
    "                'TXH': 'MaxTempHour',\r\n",
    "                'SQ': 'SunshineDur',\r\n",
    "                'DR': 'RainDur',\r\n",
    "                'RH': 'RainAmount',\r\n",
    "                'RHX': 'MaxRainAmount',\r\n",
    "                'RHXH': 'MaxRainAmountHour',\r\n",
    "                'PG': 'MeanPress',\r\n",
    "                'PX': 'MaxPress',\r\n",
    "                'PXH': 'MaxPressHour',\r\n",
    "                'PN': 'MinPress',\r\n",
    "                'PNH': 'MinPressHour',\r\n",
    "                'VVN': 'MinVis',\r\n",
    "                'VVNH': 'MinVisHour',\r\n",
    "                'VVX': 'MaxVis',\r\n",
    "                'VVXH': 'MaxVisHour',\r\n",
    "                'NG': 'Cloudness',\r\n",
    "                'UG': 'MeanHum',\r\n",
    "                'UX': 'MaxHum',\r\n",
    "                'UXH': 'MaxHumHour',\r\n",
    "                'UN': 'MinHum',\r\n",
    "                'UNH': 'MinHumHour',\r\n",
    "            })\r\n",
    "weather.info()\r\n",
    "weather.loc[:,].head(5)"
   ]
  },
  {
   "cell_type": "code",
   "execution_count": 223,
   "metadata": {},
   "outputs": [
    {
     "data": {
      "text/html": "<div>\n<style scoped>\n    .dataframe tbody tr th:only-of-type {\n        vertical-align: middle;\n    }\n\n    .dataframe tbody tr th {\n        vertical-align: top;\n    }\n\n    .dataframe thead th {\n        text-align: right;\n    }\n</style>\n<table border=\"1\" class=\"dataframe\">\n  <thead>\n    <tr style=\"text-align: right;\">\n      <th></th>\n      <th>Date</th>\n      <th>Tip</th>\n      <th>Orders</th>\n      <th>Distance</th>\n      <th>DriverID</th>\n      <th>TipPerOrder</th>\n      <th>DayOfWeek</th>\n      <th>IsWeekend</th>\n      <th>DDVEC</th>\n      <th>FHVEC</th>\n      <th>...</th>\n      <th>MinVisHour</th>\n      <th>MaxVis</th>\n      <th>MaxVisHour</th>\n      <th>Cloudness</th>\n      <th>MeanHum</th>\n      <th>MaxHum</th>\n      <th>MaxHumHour</th>\n      <th>MinHum</th>\n      <th>MinHumHour</th>\n      <th>EV24</th>\n    </tr>\n  </thead>\n  <tbody>\n    <tr>\n      <th>0</th>\n      <td>2021-01-10</td>\n      <td>0.00</td>\n      <td>8</td>\n      <td>28.0</td>\n      <td>1</td>\n      <td>0.000000</td>\n      <td>6</td>\n      <td>1.0</td>\n      <td>208.0</td>\n      <td>20.0</td>\n      <td>...</td>\n      <td>1.0</td>\n      <td>65.0</td>\n      <td>14.0</td>\n      <td>6.0</td>\n      <td>94.0</td>\n      <td>99.0</td>\n      <td>1.0</td>\n      <td>79.0</td>\n      <td>14.0</td>\n      <td>4.0</td>\n    </tr>\n    <tr>\n      <th>1</th>\n      <td>2021-01-02</td>\n      <td>0.00</td>\n      <td>5</td>\n      <td>13.9</td>\n      <td>1</td>\n      <td>0.000000</td>\n      <td>5</td>\n      <td>1.0</td>\n      <td>190.0</td>\n      <td>16.0</td>\n      <td>...</td>\n      <td>20.0</td>\n      <td>59.0</td>\n      <td>1.0</td>\n      <td>8.0</td>\n      <td>95.0</td>\n      <td>98.0</td>\n      <td>17.0</td>\n      <td>92.0</td>\n      <td>2.0</td>\n      <td>1.0</td>\n    </tr>\n    <tr>\n      <th>2</th>\n      <td>2021-01-13</td>\n      <td>0.00</td>\n      <td>8</td>\n      <td>20.0</td>\n      <td>1</td>\n      <td>0.000000</td>\n      <td>2</td>\n      <td>0.0</td>\n      <td>250.0</td>\n      <td>36.0</td>\n      <td>...</td>\n      <td>23.0</td>\n      <td>73.0</td>\n      <td>14.0</td>\n      <td>8.0</td>\n      <td>89.0</td>\n      <td>96.0</td>\n      <td>24.0</td>\n      <td>78.0</td>\n      <td>14.0</td>\n      <td>4.0</td>\n    </tr>\n    <tr>\n      <th>3</th>\n      <td>2021-01-16</td>\n      <td>0.00</td>\n      <td>10</td>\n      <td>30.0</td>\n      <td>1</td>\n      <td>0.000000</td>\n      <td>5</td>\n      <td>1.0</td>\n      <td>182.0</td>\n      <td>32.0</td>\n      <td>...</td>\n      <td>17.0</td>\n      <td>81.0</td>\n      <td>13.0</td>\n      <td>8.0</td>\n      <td>86.0</td>\n      <td>98.0</td>\n      <td>17.0</td>\n      <td>63.0</td>\n      <td>14.0</td>\n      <td>2.0</td>\n    </tr>\n    <tr>\n      <th>4</th>\n      <td>2021-01-21</td>\n      <td>2.45</td>\n      <td>11</td>\n      <td>37.5</td>\n      <td>1</td>\n      <td>0.222727</td>\n      <td>3</td>\n      <td>0.0</td>\n      <td>203.0</td>\n      <td>74.0</td>\n      <td>...</td>\n      <td>24.0</td>\n      <td>83.0</td>\n      <td>1.0</td>\n      <td>7.0</td>\n      <td>78.0</td>\n      <td>95.0</td>\n      <td>19.0</td>\n      <td>58.0</td>\n      <td>2.0</td>\n      <td>4.0</td>\n    </tr>\n  </tbody>\n</table>\n<p>5 rows × 47 columns</p>\n</div>",
      "text/plain": "        Date   Tip  Orders  Distance  DriverID  TipPerOrder  DayOfWeek  \\\n0 2021-01-10  0.00       8      28.0         1     0.000000          6   \n1 2021-01-02  0.00       5      13.9         1     0.000000          5   \n2 2021-01-13  0.00       8      20.0         1     0.000000          2   \n3 2021-01-16  0.00      10      30.0         1     0.000000          5   \n4 2021-01-21  2.45      11      37.5         1     0.222727          3   \n\n   IsWeekend  DDVEC  FHVEC  ...  MinVisHour  MaxVis  MaxVisHour  Cloudness  \\\n0        1.0  208.0   20.0  ...         1.0    65.0        14.0        6.0   \n1        1.0  190.0   16.0  ...        20.0    59.0         1.0        8.0   \n2        0.0  250.0   36.0  ...        23.0    73.0        14.0        8.0   \n3        1.0  182.0   32.0  ...        17.0    81.0        13.0        8.0   \n4        0.0  203.0   74.0  ...        24.0    83.0         1.0        7.0   \n\n   MeanHum  MaxHum  MaxHumHour  MinHum  MinHumHour  EV24  \n0     94.0    99.0         1.0    79.0        14.0   4.0  \n1     95.0    98.0        17.0    92.0         2.0   1.0  \n2     89.0    96.0        24.0    78.0        14.0   4.0  \n3     86.0    98.0        17.0    63.0        14.0   2.0  \n4     78.0    95.0        19.0    58.0         2.0   4.0  \n\n[5 rows x 47 columns]"
     },
     "execution_count": 223,
     "metadata": {},
     "output_type": "execute_result"
    }
   ],
   "source": [
    "df  = tips.join(weather, on='Date')\r\n",
    "df.head(5)"
   ]
  },
  {
   "cell_type": "markdown",
   "metadata": {},
   "source": []
  },
  {
   "cell_type": "code",
   "execution_count": 224,
   "metadata": {},
   "outputs": [],
   "source": [
    "df.to_csv('surfa_combined_dataset.csv', index=None)"
   ]
  }
 ],
 "metadata": {
  "kernelspec": {
   "display_name": "Python 3.8.2 64-bit",
   "name": "python382jvsc74a57bd0b484e608f6e9819578ec834ce331f788e59296a3ef9763dbfaaa1081558300ba"
  },
  "language_info": {
   "name": "python",
   "version": ""
  },
  "orig_nbformat": 2
 },
 "nbformat": 4,
 "nbformat_minor": 2
}